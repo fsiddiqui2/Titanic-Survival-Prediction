{
 "cells": [
  {
   "cell_type": "code",
   "execution_count": 1,
   "id": "8b7dbaa8",
   "metadata": {
    "_cell_guid": "b1076dfc-b9ad-4769-8c92-a6c4dae69d19",
    "_uuid": "8f2839f25d086af736a60e9eeb907d3b93b6e0e5",
    "execution": {
     "iopub.execute_input": "2024-07-18T16:36:51.446846Z",
     "iopub.status.busy": "2024-07-18T16:36:51.446355Z",
     "iopub.status.idle": "2024-07-18T16:36:54.675360Z",
     "shell.execute_reply": "2024-07-18T16:36:54.673871Z"
    },
    "papermill": {
     "duration": 3.243597,
     "end_time": "2024-07-18T16:36:54.679442",
     "exception": false,
     "start_time": "2024-07-18T16:36:51.435845",
     "status": "completed"
    },
    "tags": []
   },
   "outputs": [
    {
     "name": "stdout",
     "output_type": "stream",
     "text": [
      "/kaggle/input/titanic/train.csv\n",
      "/kaggle/input/titanic/test.csv\n",
      "/kaggle/input/titanic/gender_submission.csv\n"
     ]
    }
   ],
   "source": [
    "# This Python 3 environment comes with many helpful analytics libraries installed\n",
    "# It is defined by the kaggle/python Docker image: https://github.com/kaggle/docker-python\n",
    "# For example, here's several helpful packages to load\n",
    "\n",
    "import numpy as np # linear algebra\n",
    "import pandas as pd # data processing, CSV file I/O (e.g. pd.read_csv)\n",
    "import matplotlib.pyplot as plt\n",
    "\n",
    "from sklearn.pipeline import Pipeline\n",
    "from sklearn.impute import SimpleImputer\n",
    "from sklearn.model_selection import train_test_split\n",
    "from sklearn.model_selection import cross_val_score\n",
    "from sklearn.preprocessing import MinMaxScaler\n",
    "from sklearn.preprocessing import StandardScaler\n",
    "from sklearn.linear_model import LogisticRegression\n",
    "from sklearn.model_selection import KFold\n",
    "from sklearn.neighbors import KNeighborsClassifier\n",
    "from sklearn.tree import DecisionTreeClassifier\n",
    "from sklearn.linear_model import SGDClassifier\n",
    "from sklearn.neural_network import MLPClassifier\n",
    "from sklearn.model_selection import GridSearchCV\n",
    "\n",
    "\n",
    "\n",
    "\n",
    "# Input data files are available in the read-only \"../input/\" directory\n",
    "# For example, running this (by clicking run or pressing Shift+Enter) will list all files under the input directory\n",
    "\n",
    "import os\n",
    "for dirname, _, filenames in os.walk('/kaggle/input'):\n",
    "    for filename in filenames:\n",
    "        print(os.path.join(dirname, filename))\n",
    "\n",
    "# You can write up to 20GB to the current directory (/kaggle/working/) that gets preserved as output when you create a version using \"Save & Run All\" \n",
    "# You can also write temporary files to /kaggle/temp/, but they won't be saved outside of the current session"
   ]
  },
  {
   "cell_type": "code",
   "execution_count": 2,
   "id": "a5a501c1",
   "metadata": {
    "execution": {
     "iopub.execute_input": "2024-07-18T16:36:54.706833Z",
     "iopub.status.busy": "2024-07-18T16:36:54.705761Z",
     "iopub.status.idle": "2024-07-18T16:36:54.758163Z",
     "shell.execute_reply": "2024-07-18T16:36:54.756675Z"
    },
    "papermill": {
     "duration": 0.071288,
     "end_time": "2024-07-18T16:36:54.762570",
     "exception": false,
     "start_time": "2024-07-18T16:36:54.691282",
     "status": "completed"
    },
    "tags": []
   },
   "outputs": [],
   "source": [
    "train_data = pd.read_csv(\"/kaggle/input/titanic/train.csv\")\n",
    "test_data = pd.read_csv(\"/kaggle/input/titanic/test.csv\")\n",
    "ex = pd.read_csv(\"/kaggle/input/titanic/gender_submission.csv\")"
   ]
  },
  {
   "cell_type": "code",
   "execution_count": 3,
   "id": "0572ea0c",
   "metadata": {
    "execution": {
     "iopub.execute_input": "2024-07-18T16:36:54.788255Z",
     "iopub.status.busy": "2024-07-18T16:36:54.787837Z",
     "iopub.status.idle": "2024-07-18T16:36:54.794083Z",
     "shell.execute_reply": "2024-07-18T16:36:54.792781Z"
    },
    "papermill": {
     "duration": 0.018992,
     "end_time": "2024-07-18T16:36:54.796785",
     "exception": false,
     "start_time": "2024-07-18T16:36:54.777793",
     "status": "completed"
    },
    "tags": []
   },
   "outputs": [
    {
     "name": "stdout",
     "output_type": "stream",
     "text": [
      "(891, 12) (418, 11)\n"
     ]
    }
   ],
   "source": [
    "print(train_data.shape, test_data.shape)"
   ]
  },
  {
   "cell_type": "code",
   "execution_count": 4,
   "id": "6dc67b31",
   "metadata": {
    "execution": {
     "iopub.execute_input": "2024-07-18T16:36:54.817070Z",
     "iopub.status.busy": "2024-07-18T16:36:54.816544Z",
     "iopub.status.idle": "2024-07-18T16:36:54.950999Z",
     "shell.execute_reply": "2024-07-18T16:36:54.949677Z"
    },
    "papermill": {
     "duration": 0.14862,
     "end_time": "2024-07-18T16:36:54.953969",
     "exception": false,
     "start_time": "2024-07-18T16:36:54.805349",
     "status": "completed"
    },
    "tags": []
   },
   "outputs": [],
   "source": [
    "X = train_data.drop([\"Name\", \"Ticket\", \"PassengerId\", \"Survived\"], axis=1)\n",
    "X[\"Cabin\"] = np.where(X[\"Cabin\"].isna(), 0, 1)\n",
    "X = pd.get_dummies(X, columns = [\"Sex\", \"Embarked\"], drop_first=True, dtype=int).values\n",
    "y = train_data[\"Survived\"].values"
   ]
  },
  {
   "cell_type": "code",
   "execution_count": 5,
   "id": "bbcf1793",
   "metadata": {
    "execution": {
     "iopub.execute_input": "2024-07-18T16:36:54.975204Z",
     "iopub.status.busy": "2024-07-18T16:36:54.974677Z",
     "iopub.status.idle": "2024-07-18T16:37:22.355224Z",
     "shell.execute_reply": "2024-07-18T16:37:22.353652Z"
    },
    "papermill": {
     "duration": 27.397392,
     "end_time": "2024-07-18T16:37:22.359824",
     "exception": false,
     "start_time": "2024-07-18T16:36:54.962432",
     "status": "completed"
    },
    "tags": []
   },
   "outputs": [],
   "source": [
    "models = {\"Logistic Regression\": LogisticRegression(), \"KNN\": KNeighborsClassifier(), \"Decision Tree Classifier\": DecisionTreeClassifier(), \"SGD\": SGDClassifier(), \"MLP\" : MLPClassifier(max_iter=500)}\n",
    "results_acc = []\n",
    "results_f1 = []\n",
    "for model in models.values():\n",
    "    steps = [(\"impute\", SimpleImputer()),\n",
    "            (\"scale\", MinMaxScaler()),\n",
    "            (\"model\", model)]\n",
    "\n",
    "    pipeline = Pipeline(steps)\n",
    "    kf = KFold(n_splits = 10, shuffle=True, random_state=1)\n",
    "    cv_results_acc = cross_val_score(pipeline, X, y, cv=kf)\n",
    "    cv_results_f1 = cross_val_score(pipeline, X, y, cv=kf, scoring='f1')\n",
    "    results_acc.append(cv_results_acc)\n",
    "    results_f1.append(cv_results_f1)"
   ]
  },
  {
   "cell_type": "code",
   "execution_count": 6,
   "id": "d70e84fd",
   "metadata": {
    "execution": {
     "iopub.execute_input": "2024-07-18T16:37:22.399229Z",
     "iopub.status.busy": "2024-07-18T16:37:22.397069Z",
     "iopub.status.idle": "2024-07-18T16:37:22.729266Z",
     "shell.execute_reply": "2024-07-18T16:37:22.728072Z"
    },
    "papermill": {
     "duration": 0.355261,
     "end_time": "2024-07-18T16:37:22.732259",
     "exception": false,
     "start_time": "2024-07-18T16:37:22.376998",
     "status": "completed"
    },
    "tags": []
   },
   "outputs": [
    {
     "data": {
      "image/png": "[encoded data removed]",
      "text/plain": [
       "<Figure size 640x480 with 1 Axes>"
      ]
     },
     "metadata": {},
     "output_type": "display_data"
    }
   ],
   "source": [
    "plt.boxplot(results_acc, labels=models.keys())\n",
    "plt.xticks(rotation=20)\n",
    "plt.show()"
   ]
  },
  {
   "cell_type": "code",
   "execution_count": 7,
   "id": "0706248c",
   "metadata": {
    "execution": {
     "iopub.execute_input": "2024-07-18T16:37:22.752305Z",
     "iopub.status.busy": "2024-07-18T16:37:22.751913Z",
     "iopub.status.idle": "2024-07-18T16:37:23.028443Z",
     "shell.execute_reply": "2024-07-18T16:37:23.026712Z"
    },
    "papermill": {
     "duration": 0.290051,
     "end_time": "2024-07-18T16:37:23.031428",
     "exception": false,
     "start_time": "2024-07-18T16:37:22.741377",
     "status": "completed"
    },
    "tags": []
   },
   "outputs": [
    {
     "data": {
      "image/png": "[encoded data removed]",
      "text/plain": [
       "<Figure size 640x480 with 1 Axes>"
      ]
     },
     "metadata": {},
     "output_type": "display_data"
    }
   ],
   "source": [
    "plt.boxplot(results_f1, labels=models.keys())\n",
    "plt.xticks(rotation=20)\n",
    "plt.show()"
   ]
  },
  {
   "cell_type": "code",
   "execution_count": 8,
   "id": "8e174ce2",
   "metadata": {
    "execution": {
     "iopub.execute_input": "2024-07-18T16:37:23.052266Z",
     "iopub.status.busy": "2024-07-18T16:37:23.051881Z",
     "iopub.status.idle": "2024-07-18T16:37:23.058183Z",
     "shell.execute_reply": "2024-07-18T16:37:23.056953Z"
    },
    "papermill": {
     "duration": 0.019984,
     "end_time": "2024-07-18T16:37:23.061084",
     "exception": false,
     "start_time": "2024-07-18T16:37:23.041100",
     "status": "completed"
    },
    "tags": []
   },
   "outputs": [],
   "source": [
    "steps = [(\"impute\", SimpleImputer()),\n",
    "        (\"scale\", StandardScaler()),\n",
    "        (\"model\", KNeighborsClassifier())]\n",
    "\n",
    "pipeline = Pipeline(steps)"
   ]
  },
  {
   "cell_type": "code",
   "execution_count": 9,
   "id": "f100ac97",
   "metadata": {
    "execution": {
     "iopub.execute_input": "2024-07-18T16:37:23.082143Z",
     "iopub.status.busy": "2024-07-18T16:37:23.081733Z",
     "iopub.status.idle": "2024-07-18T16:37:29.663769Z",
     "shell.execute_reply": "2024-07-18T16:37:29.662546Z"
    },
    "papermill": {
     "duration": 6.596144,
     "end_time": "2024-07-18T16:37:29.666809",
     "exception": false,
     "start_time": "2024-07-18T16:37:23.070665",
     "status": "completed"
    },
    "tags": []
   },
   "outputs": [
    {
     "data": {
      "text/html": [
       "<style>#sk-container-id-1 {color: black;background-color: white;}#sk-container-id-1 pre{padding: 0;}#sk-container-id-1 div.sk-toggleable {background-color: white;}#sk-container-id-1 label.sk-toggleable__label {cursor: pointer;display: block;width: 100%;margin-bottom: 0;padding: 0.3em;box-sizing: border-box;text-align: center;}#sk-container-id-1 label.sk-toggleable__label-arrow:before {content: \"▸\";float: left;margin-right: 0.25em;color: #696969;}#sk-container-id-1 label.sk-toggleable__label-arrow:hover:before {color: black;}#sk-container-id-1 div.sk-estimator:hover label.sk-toggleable__label-arrow:before {color: black;}#sk-container-id-1 div.sk-toggleable__content {max-height: 0;max-width: 0;overflow: hidden;text-align: left;background-color: #f0f8ff;}#sk-container-id-1 div.sk-toggleable__content pre {margin: 0.2em;color: black;border-radius: 0.25em;background-color: #f0f8ff;}#sk-container-id-1 input.sk-toggleable__control:checked~div.sk-toggleable__content {max-height: 200px;max-width: 100%;overflow: auto;}#sk-container-id-1 input.sk-toggleable__control:checked~label.sk-toggleable__label-arrow:before {content: \"▾\";}#sk-container-id-1 div.sk-estimator input.sk-toggleable__control:checked~label.sk-toggleable__label {background-color: #d4ebff;}#sk-container-id-1 div.sk-label input.sk-toggleable__control:checked~label.sk-toggleable__label {background-color: #d4ebff;}#sk-container-id-1 input.sk-hidden--visually {border: 0;clip: rect(1px 1px 1px 1px);clip: rect(1px, 1px, 1px, 1px);height: 1px;margin: -1px;overflow: hidden;padding: 0;position: absolute;width: 1px;}#sk-container-id-1 div.sk-estimator {font-family: monospace;background-color: #f0f8ff;border: 1px dotted black;border-radius: 0.25em;box-sizing: border-box;margin-bottom: 0.5em;}#sk-container-id-1 div.sk-estimator:hover {background-color: #d4ebff;}#sk-container-id-1 div.sk-parallel-item::after {content: \"\";width: 100%;border-bottom: 1px solid gray;flex-grow: 1;}#sk-container-id-1 div.sk-label:hover label.sk-toggleable__label {background-color: #d4ebff;}#sk-container-id-1 div.sk-serial::before {content: \"\";position: absolute;border-left: 1px solid gray;box-sizing: border-box;top: 0;bottom: 0;left: 50%;z-index: 0;}#sk-container-id-1 div.sk-serial {display: flex;flex-direction: column;align-items: center;background-color: white;padding-right: 0.2em;padding-left: 0.2em;position: relative;}#sk-container-id-1 div.sk-item {position: relative;z-index: 1;}#sk-container-id-1 div.sk-parallel {display: flex;align-items: stretch;justify-content: center;background-color: white;position: relative;}#sk-container-id-1 div.sk-item::before, #sk-container-id-1 div.sk-parallel-item::before {content: \"\";position: absolute;border-left: 1px solid gray;box-sizing: border-box;top: 0;bottom: 0;left: 50%;z-index: -1;}#sk-container-id-1 div.sk-parallel-item {display: flex;flex-direction: column;z-index: 1;position: relative;background-color: white;}#sk-container-id-1 div.sk-parallel-item:first-child::after {align-self: flex-end;width: 50%;}#sk-container-id-1 div.sk-parallel-item:last-child::after {align-self: flex-start;width: 50%;}#sk-container-id-1 div.sk-parallel-item:only-child::after {width: 0;}#sk-container-id-1 div.sk-dashed-wrapped {border: 1px dashed gray;margin: 0 0.4em 0.5em 0.4em;box-sizing: border-box;padding-bottom: 0.4em;background-color: white;}#sk-container-id-1 div.sk-label label {font-family: monospace;font-weight: bold;display: inline-block;line-height: 1.2em;}#sk-container-id-1 div.sk-label-container {text-align: center;}#sk-container-id-1 div.sk-container {/* jupyter's `normalize.less` sets `[hidden] { display: none; }` but bootstrap.min.css set `[hidden] { display: none !important; }` so we also need the `!important` here to be able to override the default hidden behavior on the sphinx rendered scikit-learn.org. See: https://github.com/scikit-learn/scikit-learn/issues/21755 */display: inline-block !important;position: relative;}#sk-container-id-1 div.sk-text-repr-fallback {display: none;}</style><div id=\"sk-container-id-1\" class=\"sk-top-container\"><div class=\"sk-text-repr-fallback\"><pre>GridSearchCV(cv=3,\n",
       "             estimator=Pipeline(steps=[(&#x27;impute&#x27;, SimpleImputer()),\n",
       "                                       (&#x27;scale&#x27;, StandardScaler()),\n",
       "                                       (&#x27;model&#x27;, KNeighborsClassifier())]),\n",
       "             param_grid={&#x27;model__metric&#x27;: [&#x27;minkowski&#x27;, &#x27;euclidean&#x27;,\n",
       "                                           &#x27;manhattan&#x27;],\n",
       "                         &#x27;model__n_neighbors&#x27;: range(1, 20),\n",
       "                         &#x27;model__weights&#x27;: [&#x27;uniform&#x27;, &#x27;distance&#x27;]})</pre><b>In a Jupyter environment, please rerun this cell to show the HTML representation or trust the notebook. <br />On GitHub, the HTML representation is unable to render, please try loading this page with nbviewer.org.</b></div><div class=\"sk-container\" hidden><div class=\"sk-item sk-dashed-wrapped\"><div class=\"sk-label-container\"><div class=\"sk-label sk-toggleable\"><input class=\"sk-toggleable__control sk-hidden--visually\" id=\"sk-estimator-id-1\" type=\"checkbox\" ><label for=\"sk-estimator-id-1\" class=\"sk-toggleable__label sk-toggleable__label-arrow\">GridSearchCV</label><div class=\"sk-toggleable__content\"><pre>GridSearchCV(cv=3,\n",
       "             estimator=Pipeline(steps=[(&#x27;impute&#x27;, SimpleImputer()),\n",
       "                                       (&#x27;scale&#x27;, StandardScaler()),\n",
       "                                       (&#x27;model&#x27;, KNeighborsClassifier())]),\n",
       "             param_grid={&#x27;model__metric&#x27;: [&#x27;minkowski&#x27;, &#x27;euclidean&#x27;,\n",
       "                                           &#x27;manhattan&#x27;],\n",
       "                         &#x27;model__n_neighbors&#x27;: range(1, 20),\n",
       "                         &#x27;model__weights&#x27;: [&#x27;uniform&#x27;, &#x27;distance&#x27;]})</pre></div></div></div><div class=\"sk-parallel\"><div class=\"sk-parallel-item\"><div class=\"sk-item\"><div class=\"sk-label-container\"><div class=\"sk-label sk-toggleable\"><input class=\"sk-toggleable__control sk-hidden--visually\" id=\"sk-estimator-id-2\" type=\"checkbox\" ><label for=\"sk-estimator-id-2\" class=\"sk-toggleable__label sk-toggleable__label-arrow\">estimator: Pipeline</label><div class=\"sk-toggleable__content\"><pre>Pipeline(steps=[(&#x27;impute&#x27;, SimpleImputer()), (&#x27;scale&#x27;, StandardScaler()),\n",
       "                (&#x27;model&#x27;, KNeighborsClassifier())])</pre></div></div></div><div class=\"sk-serial\"><div class=\"sk-item\"><div class=\"sk-serial\"><div class=\"sk-item\"><div class=\"sk-estimator sk-toggleable\"><input class=\"sk-toggleable__control sk-hidden--visually\" id=\"sk-estimator-id-3\" type=\"checkbox\" ><label for=\"sk-estimator-id-3\" class=\"sk-toggleable__label sk-toggleable__label-arrow\">SimpleImputer</label><div class=\"sk-toggleable__content\"><pre>SimpleImputer()</pre></div></div></div><div class=\"sk-item\"><div class=\"sk-estimator sk-toggleable\"><input class=\"sk-toggleable__control sk-hidden--visually\" id=\"sk-estimator-id-4\" type=\"checkbox\" ><label for=\"sk-estimator-id-4\" class=\"sk-toggleable__label sk-toggleable__label-arrow\">StandardScaler</label><div class=\"sk-toggleable__content\"><pre>StandardScaler()</pre></div></div></div><div class=\"sk-item\"><div class=\"sk-estimator sk-toggleable\"><input class=\"sk-toggleable__control sk-hidden--visually\" id=\"sk-estimator-id-5\" type=\"checkbox\" ><label for=\"sk-estimator-id-5\" class=\"sk-toggleable__label sk-toggleable__label-arrow\">KNeighborsClassifier</label><div class=\"sk-toggleable__content\"><pre>KNeighborsClassifier()</pre></div></div></div></div></div></div></div></div></div></div></div></div>"
      ],
      "text/plain": [
       "GridSearchCV(cv=3,\n",
       "             estimator=Pipeline(steps=[('impute', SimpleImputer()),\n",
       "                                       ('scale', StandardScaler()),\n",
       "                                       ('model', KNeighborsClassifier())]),\n",
       "             param_grid={'model__metric': ['minkowski', 'euclidean',\n",
       "                                           'manhattan'],\n",
       "                         'model__n_neighbors': range(1, 20),\n",
       "                         'model__weights': ['uniform', 'distance']})"
      ]
     },
     "execution_count": 9,
     "metadata": {},
     "output_type": "execute_result"
    }
   ],
   "source": [
    "param_grid = {\"model__n_neighbors\":range(1,20), \n",
    "              'model__weights' : ['uniform', 'distance'],\n",
    "              'model__metric' : ['minkowski','euclidean','manhattan']}\n",
    "clf = GridSearchCV(pipeline, param_grid, cv=3)\n",
    "clf.fit(X, y)"
   ]
  },
  {
   "cell_type": "code",
   "execution_count": 10,
   "id": "96eada8f",
   "metadata": {
    "execution": {
     "iopub.execute_input": "2024-07-18T16:37:29.688723Z",
     "iopub.status.busy": "2024-07-18T16:37:29.688184Z",
     "iopub.status.idle": "2024-07-18T16:37:29.696394Z",
     "shell.execute_reply": "2024-07-18T16:37:29.694175Z"
    },
    "papermill": {
     "duration": 0.02255,
     "end_time": "2024-07-18T16:37:29.699294",
     "exception": false,
     "start_time": "2024-07-18T16:37:29.676744",
     "status": "completed"
    },
    "tags": []
   },
   "outputs": [
    {
     "name": "stdout",
     "output_type": "stream",
     "text": [
      "{'model__metric': 'manhattan', 'model__n_neighbors': 8, 'model__weights': 'uniform'} 0.8125701459034792\n"
     ]
    }
   ],
   "source": [
    "print(clf.best_params_, clf.best_score_)"
   ]
  },
  {
   "cell_type": "code",
   "execution_count": 11,
   "id": "b7c0d67c",
   "metadata": {
    "execution": {
     "iopub.execute_input": "2024-07-18T16:37:29.721647Z",
     "iopub.status.busy": "2024-07-18T16:37:29.721174Z",
     "iopub.status.idle": "2024-07-18T16:37:29.805013Z",
     "shell.execute_reply": "2024-07-18T16:37:29.803863Z"
    },
    "papermill": {
     "duration": 0.098212,
     "end_time": "2024-07-18T16:37:29.807766",
     "exception": false,
     "start_time": "2024-07-18T16:37:29.709554",
     "status": "completed"
    },
    "tags": []
   },
   "outputs": [
    {
     "data": {
      "text/plain": [
       "0.8417508417508418"
      ]
     },
     "execution_count": 11,
     "metadata": {},
     "output_type": "execute_result"
    }
   ],
   "source": [
    "steps = [(\"impute\", SimpleImputer()),\n",
    "        (\"scale\", StandardScaler()),\n",
    "        (\"model\", KNeighborsClassifier(n_neighbors=8, metric=\"manhattan\", weights=\"uniform\"))]\n",
    "pipeline = Pipeline(steps)\n",
    "pipeline.fit(X,y)\n",
    "pipeline.score(X,y)"
   ]
  },
  {
   "cell_type": "code",
   "execution_count": 12,
   "id": "b0f15812",
   "metadata": {
    "execution": {
     "iopub.execute_input": "2024-07-18T16:37:29.831985Z",
     "iopub.status.busy": "2024-07-18T16:37:29.831518Z",
     "iopub.status.idle": "2024-07-18T16:37:29.846426Z",
     "shell.execute_reply": "2024-07-18T16:37:29.845136Z"
    },
    "papermill": {
     "duration": 0.030422,
     "end_time": "2024-07-18T16:37:29.849390",
     "exception": false,
     "start_time": "2024-07-18T16:37:29.818968",
     "status": "completed"
    },
    "tags": []
   },
   "outputs": [],
   "source": [
    "X_test = test_data.drop([\"Name\", \"Ticket\", \"PassengerId\"], axis=1)\n",
    "X_test[\"Cabin\"] = np.where(X_test[\"Cabin\"].isna(), 0, 1)\n",
    "X_test = pd.get_dummies(X_test, columns = [\"Sex\", \"Embarked\"], drop_first=True, dtype=int).values\n"
   ]
  },
  {
   "cell_type": "code",
   "execution_count": 13,
   "id": "62df07cf",
   "metadata": {
    "execution": {
     "iopub.execute_input": "2024-07-18T16:37:29.871502Z",
     "iopub.status.busy": "2024-07-18T16:37:29.871083Z",
     "iopub.status.idle": "2024-07-18T16:37:29.916824Z",
     "shell.execute_reply": "2024-07-18T16:37:29.915469Z"
    },
    "papermill": {
     "duration": 0.060395,
     "end_time": "2024-07-18T16:37:29.919929",
     "exception": false,
     "start_time": "2024-07-18T16:37:29.859534",
     "status": "completed"
    },
    "tags": []
   },
   "outputs": [],
   "source": [
    "submission = pd.DataFrame({\"PassengerId\": test_data[\"PassengerId\"].values, \"Survived\": pipeline.predict(X_test)})"
   ]
  },
  {
   "cell_type": "code",
   "execution_count": 14,
   "id": "57b070ac",
   "metadata": {
    "execution": {
     "iopub.execute_input": "2024-07-18T16:37:29.942903Z",
     "iopub.status.busy": "2024-07-18T16:37:29.942453Z",
     "iopub.status.idle": "2024-07-18T16:37:29.951102Z",
     "shell.execute_reply": "2024-07-18T16:37:29.949888Z"
    },
    "papermill": {
     "duration": 0.023696,
     "end_time": "2024-07-18T16:37:29.953975",
     "exception": false,
     "start_time": "2024-07-18T16:37:29.930279",
     "status": "completed"
    },
    "tags": []
   },
   "outputs": [
    {
     "data": {
      "text/plain": [
       "(418, 2)"
      ]
     },
     "execution_count": 14,
     "metadata": {},
     "output_type": "execute_result"
    }
   ],
   "source": [
    "submission.shape"
   ]
  },
  {
   "cell_type": "code",
   "execution_count": 15,
   "id": "9cead066",
   "metadata": {
    "execution": {
     "iopub.execute_input": "2024-07-18T16:37:29.976843Z",
     "iopub.status.busy": "2024-07-18T16:37:29.976410Z",
     "iopub.status.idle": "2024-07-18T16:37:29.983991Z",
     "shell.execute_reply": "2024-07-18T16:37:29.982699Z"
    },
    "papermill": {
     "duration": 0.021844,
     "end_time": "2024-07-18T16:37:29.986597",
     "exception": false,
     "start_time": "2024-07-18T16:37:29.964753",
     "status": "completed"
    },
    "tags": []
   },
   "outputs": [
    {
     "data": {
      "text/plain": [
       "(418, 2)"
      ]
     },
     "execution_count": 15,
     "metadata": {},
     "output_type": "execute_result"
    }
   ],
   "source": [
    "ex.shape"
   ]
  },
  {
   "cell_type": "code",
   "execution_count": 16,
   "id": "7c7ff56b",
   "metadata": {
    "execution": {
     "iopub.execute_input": "2024-07-18T16:37:30.009778Z",
     "iopub.status.busy": "2024-07-18T16:37:30.009332Z",
     "iopub.status.idle": "2024-07-18T16:37:30.018967Z",
     "shell.execute_reply": "2024-07-18T16:37:30.017698Z"
    },
    "papermill": {
     "duration": 0.024793,
     "end_time": "2024-07-18T16:37:30.021972",
     "exception": false,
     "start_time": "2024-07-18T16:37:29.997179",
     "status": "completed"
    },
    "tags": []
   },
   "outputs": [],
   "source": [
    "submission.to_csv(\"submission.csv\", index=False)"
   ]
  },
  {
   "cell_type": "code",
   "execution_count": 17,
   "id": "25028f90",
   "metadata": {
    "execution": {
     "iopub.execute_input": "2024-07-18T16:37:30.046834Z",
     "iopub.status.busy": "2024-07-18T16:37:30.045214Z",
     "iopub.status.idle": "2024-07-18T16:37:30.167383Z",
     "shell.execute_reply": "2024-07-18T16:37:30.166148Z"
    },
    "papermill": {
     "duration": 0.137875,
     "end_time": "2024-07-18T16:37:30.170400",
     "exception": false,
     "start_time": "2024-07-18T16:37:30.032525",
     "status": "completed"
    },
    "tags": []
   },
   "outputs": [],
   "source": [
    "kf = KFold(n_splits = 6, shuffle=True, random_state=1)\n",
    "cv_scores = cross_val_score(pipeline, X, y, cv=kf)"
   ]
  },
  {
   "cell_type": "code",
   "execution_count": 18,
   "id": "a9a5e62d",
   "metadata": {
    "execution": {
     "iopub.execute_input": "2024-07-18T16:37:30.194279Z",
     "iopub.status.busy": "2024-07-18T16:37:30.193848Z",
     "iopub.status.idle": "2024-07-18T16:37:53.121374Z",
     "shell.execute_reply": "2024-07-18T16:37:53.119270Z"
    },
    "papermill": {
     "duration": 22.945471,
     "end_time": "2024-07-18T16:37:53.126326",
     "exception": false,
     "start_time": "2024-07-18T16:37:30.180855",
     "status": "completed"
    },
    "tags": []
   },
   "outputs": [],
   "source": [
    "steps = [(\"impute\", SimpleImputer()),\n",
    "            (\"scale\", MinMaxScaler()),\n",
    "            (\"model\", model)]\n",
    "\n",
    "pipeline = Pipeline(steps)\n",
    "kf = KFold(n_splits = 10, shuffle=True, random_state=1)\n",
    "cv_results_acc = cross_val_score(pipeline, X, y, cv=kf)\n",
    "cv_results_f1 = cross_val_score(pipeline, X, y, cv=kf, scoring='f1')\n",
    "results_acc.append(cv_results_acc)\n",
    "results_f1.append(cv_results_f1)"
   ]
  },
  {
   "cell_type": "code",
   "execution_count": null,
   "id": "8e998fbc",
   "metadata": {
    "papermill": {
     "duration": 0.022071,
     "end_time": "2024-07-18T16:37:53.170475",
     "exception": false,
     "start_time": "2024-07-18T16:37:53.148404",
     "status": "completed"
    },
    "tags": []
   },
   "outputs": [],
   "source": []
  },
  {
   "cell_type": "code",
   "execution_count": null,
   "id": "58b97c48",
   "metadata": {
    "papermill": {
     "duration": 0.021522,
     "end_time": "2024-07-18T16:37:53.214025",
     "exception": false,
     "start_time": "2024-07-18T16:37:53.192503",
     "status": "completed"
    },
    "tags": []
   },
   "outputs": [],
   "source": []
  },
  {
   "cell_type": "code",
   "execution_count": 19,
   "id": "41eca2f8",
   "metadata": {
    "execution": {
     "iopub.execute_input": "2024-07-18T16:37:53.246651Z",
     "iopub.status.busy": "2024-07-18T16:37:53.246200Z",
     "iopub.status.idle": "2024-07-18T16:37:53.500381Z",
     "shell.execute_reply": "2024-07-18T16:37:53.499357Z"
    },
    "papermill": {
     "duration": 0.269099,
     "end_time": "2024-07-18T16:37:53.503085",
     "exception": false,
     "start_time": "2024-07-18T16:37:53.233986",
     "status": "completed"
    },
    "tags": []
   },
   "outputs": [
    {
     "data": {
      "text/plain": [
       "(array([608., 209.,  28.,  16.,  18.,   5.,   0.,   7.]),\n",
       " array([0., 1., 2., 3., 4., 5., 6., 7., 8.]),\n",
       " <BarContainer object of 8 artists>)"
      ]
     },
     "execution_count": 19,
     "metadata": {},
     "output_type": "execute_result"
    },
    {
     "data": {
      "image/png": "[encoded data removed]",
      "text/plain": [
       "<Figure size 640x480 with 1 Axes>"
      ]
     },
     "metadata": {},
     "output_type": "display_data"
    }
   ],
   "source": [
    "plt.hist(train_data[\"SibSp\"], bins=8)"
   ]
  },
  {
   "cell_type": "code",
   "execution_count": 20,
   "id": "778be206",
   "metadata": {
    "execution": {
     "iopub.execute_input": "2024-07-18T16:37:53.527564Z",
     "iopub.status.busy": "2024-07-18T16:37:53.527158Z",
     "iopub.status.idle": "2024-07-18T16:37:53.539540Z",
     "shell.execute_reply": "2024-07-18T16:37:53.538443Z"
    },
    "papermill": {
     "duration": 0.028109,
     "end_time": "2024-07-18T16:37:53.542182",
     "exception": false,
     "start_time": "2024-07-18T16:37:53.514073",
     "status": "completed"
    },
    "tags": []
   },
   "outputs": [
    {
     "data": {
      "text/plain": [
       "PassengerId      0\n",
       "Survived         0\n",
       "Pclass           0\n",
       "Name             0\n",
       "Sex              0\n",
       "SibSp            0\n",
       "Parch            0\n",
       "Ticket           0\n",
       "Fare             0\n",
       "Embarked         2\n",
       "Age            177\n",
       "Cabin          687\n",
       "dtype: int64"
      ]
     },
     "execution_count": 20,
     "metadata": {},
     "output_type": "execute_result"
    }
   ],
   "source": [
    "train_data.isna().sum().sort_values()"
   ]
  },
  {
   "cell_type": "code",
   "execution_count": 21,
   "id": "7f6df0f0",
   "metadata": {
    "execution": {
     "iopub.execute_input": "2024-07-18T16:37:53.565989Z",
     "iopub.status.busy": "2024-07-18T16:37:53.565545Z",
     "iopub.status.idle": "2024-07-18T16:37:53.603743Z",
     "shell.execute_reply": "2024-07-18T16:37:53.602505Z"
    },
    "papermill": {
     "duration": 0.053295,
     "end_time": "2024-07-18T16:37:53.606526",
     "exception": false,
     "start_time": "2024-07-18T16:37:53.553231",
     "status": "completed"
    },
    "tags": []
   },
   "outputs": [
    {
     "data": {
      "text/html": [
       "<div>\n",
       "<style scoped>\n",
       "    .dataframe tbody tr th:only-of-type {\n",
       "        vertical-align: middle;\n",
       "    }\n",
       "\n",
       "    .dataframe tbody tr th {\n",
       "        vertical-align: top;\n",
       "    }\n",
       "\n",
       "    .dataframe thead th {\n",
       "        text-align: right;\n",
       "    }\n",
       "</style>\n",
       "<table border=\"1\" class=\"dataframe\">\n",
       "  <thead>\n",
       "    <tr style=\"text-align: right;\">\n",
       "      <th></th>\n",
       "      <th>PassengerId</th>\n",
       "      <th>Survived</th>\n",
       "      <th>Pclass</th>\n",
       "      <th>Age</th>\n",
       "      <th>SibSp</th>\n",
       "      <th>Parch</th>\n",
       "      <th>Fare</th>\n",
       "    </tr>\n",
       "  </thead>\n",
       "  <tbody>\n",
       "    <tr>\n",
       "      <th>count</th>\n",
       "      <td>891.000000</td>\n",
       "      <td>891.000000</td>\n",
       "      <td>891.000000</td>\n",
       "      <td>714.000000</td>\n",
       "      <td>891.000000</td>\n",
       "      <td>891.000000</td>\n",
       "      <td>891.000000</td>\n",
       "    </tr>\n",
       "    <tr>\n",
       "      <th>mean</th>\n",
       "      <td>446.000000</td>\n",
       "      <td>0.383838</td>\n",
       "      <td>2.308642</td>\n",
       "      <td>29.699118</td>\n",
       "      <td>0.523008</td>\n",
       "      <td>0.381594</td>\n",
       "      <td>32.204208</td>\n",
       "    </tr>\n",
       "    <tr>\n",
       "      <th>std</th>\n",
       "      <td>257.353842</td>\n",
       "      <td>0.486592</td>\n",
       "      <td>0.836071</td>\n",
       "      <td>14.526497</td>\n",
       "      <td>1.102743</td>\n",
       "      <td>0.806057</td>\n",
       "      <td>49.693429</td>\n",
       "    </tr>\n",
       "    <tr>\n",
       "      <th>min</th>\n",
       "      <td>1.000000</td>\n",
       "      <td>0.000000</td>\n",
       "      <td>1.000000</td>\n",
       "      <td>0.420000</td>\n",
       "      <td>0.000000</td>\n",
       "      <td>0.000000</td>\n",
       "      <td>0.000000</td>\n",
       "    </tr>\n",
       "    <tr>\n",
       "      <th>25%</th>\n",
       "      <td>223.500000</td>\n",
       "      <td>0.000000</td>\n",
       "      <td>2.000000</td>\n",
       "      <td>20.125000</td>\n",
       "      <td>0.000000</td>\n",
       "      <td>0.000000</td>\n",
       "      <td>7.910400</td>\n",
       "    </tr>\n",
       "    <tr>\n",
       "      <th>50%</th>\n",
       "      <td>446.000000</td>\n",
       "      <td>0.000000</td>\n",
       "      <td>3.000000</td>\n",
       "      <td>28.000000</td>\n",
       "      <td>0.000000</td>\n",
       "      <td>0.000000</td>\n",
       "      <td>14.454200</td>\n",
       "    </tr>\n",
       "    <tr>\n",
       "      <th>75%</th>\n",
       "      <td>668.500000</td>\n",
       "      <td>1.000000</td>\n",
       "      <td>3.000000</td>\n",
       "      <td>38.000000</td>\n",
       "      <td>1.000000</td>\n",
       "      <td>0.000000</td>\n",
       "      <td>31.000000</td>\n",
       "    </tr>\n",
       "    <tr>\n",
       "      <th>max</th>\n",
       "      <td>891.000000</td>\n",
       "      <td>1.000000</td>\n",
       "      <td>3.000000</td>\n",
       "      <td>80.000000</td>\n",
       "      <td>8.000000</td>\n",
       "      <td>6.000000</td>\n",
       "      <td>512.329200</td>\n",
       "    </tr>\n",
       "  </tbody>\n",
       "</table>\n",
       "</div>"
      ],
      "text/plain": [
       "       PassengerId    Survived      Pclass         Age       SibSp  \\\n",
       "count   891.000000  891.000000  891.000000  714.000000  891.000000   \n",
       "mean    446.000000    0.383838    2.308642   29.699118    0.523008   \n",
       "std     257.353842    0.486592    0.836071   14.526497    1.102743   \n",
       "min       1.000000    0.000000    1.000000    0.420000    0.000000   \n",
       "25%     223.500000    0.000000    2.000000   20.125000    0.000000   \n",
       "50%     446.000000    0.000000    3.000000   28.000000    0.000000   \n",
       "75%     668.500000    1.000000    3.000000   38.000000    1.000000   \n",
       "max     891.000000    1.000000    3.000000   80.000000    8.000000   \n",
       "\n",
       "            Parch        Fare  \n",
       "count  891.000000  891.000000  \n",
       "mean     0.381594   32.204208  \n",
       "std      0.806057   49.693429  \n",
       "min      0.000000    0.000000  \n",
       "25%      0.000000    7.910400  \n",
       "50%      0.000000   14.454200  \n",
       "75%      0.000000   31.000000  \n",
       "max      6.000000  512.329200  "
      ]
     },
     "execution_count": 21,
     "metadata": {},
     "output_type": "execute_result"
    }
   ],
   "source": [
    "train_data.describe()"
   ]
  },
  {
   "cell_type": "code",
   "execution_count": null,
   "id": "3854a0c3",
   "metadata": {
    "papermill": {
     "duration": 0.011079,
     "end_time": "2024-07-18T16:37:53.629494",
     "exception": false,
     "start_time": "2024-07-18T16:37:53.618415",
     "status": "completed"
    },
    "tags": []
   },
   "outputs": [],
   "source": []
  }
 ],
 "metadata": {
  "kaggle": {
   "accelerator": "none",
   "dataSources": [
    {
     "databundleVersionId": 26502,
     "sourceId": 3136,
     "sourceType": "competition"
    }
   ],
   "dockerImageVersionId": 30732,
   "isGpuEnabled": false,
   "isInternetEnabled": true,
   "language": "python",
   "sourceType": "notebook"
  },
  "kernelspec": {
   "display_name": "Python 3",
   "language": "python",
   "name": "python3"
  },
  "language_info": {
   "codemirror_mode": {
    "name": "ipython",
    "version": 3
   },
   "file_extension": ".py",
   "mimetype": "text/x-python",
   "name": "python",
   "nbconvert_exporter": "python",
   "pygments_lexer": "ipython3",
   "version": "3.10.13"
  },
  "papermill": {
   "default_parameters": {},
   "duration": 66.37438,
   "end_time": "2024-07-18T16:37:54.364444",
   "environment_variables": {},
   "exception": null,
   "input_path": "__notebook__.ipynb",
   "output_path": "__notebook__.ipynb",
   "parameters": {},
   "start_time": "2024-07-18T16:36:47.990064",
   "version": "2.5.0"
  }
 },
 "nbformat": 4,
 "nbformat_minor": 5
}
